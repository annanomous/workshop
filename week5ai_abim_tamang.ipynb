{
  "nbformat": 4,
  "nbformat_minor": 0,
  "metadata": {
    "colab": {
      "provenance": []
    },
    "kernelspec": {
      "name": "python3",
      "display_name": "Python 3"
    },
    "language_info": {
      "name": "python"
    }
  },
  "cells": [
    {
      "cell_type": "code",
      "execution_count": 28,
      "metadata": {
        "id": "cIk8PNq3tD6l"
      },
      "outputs": [],
      "source": [
        "import pandas as pd"
      ]
    },
    {
      "cell_type": "code",
      "source": [
        "import numpy as np"
      ],
      "metadata": {
        "id": "wsfrbj99tyJq"
      },
      "execution_count": 29,
      "outputs": []
    },
    {
      "cell_type": "code",
      "source": [
        "df =pd.read_csv('/content/drive/MyDrive/dataset/student.csv')"
      ],
      "metadata": {
        "id": "FtVnX-WFtzxk"
      },
      "execution_count": 30,
      "outputs": []
    },
    {
      "cell_type": "code",
      "source": [
        "math =df['Math'].to_numpy()\n",
        "read =df['Reading'].to_numpy()\n",
        "write = df['Writing'].to_numpy()"
      ],
      "metadata": {
        "id": "-SvQYl5fuagY"
      },
      "execution_count": 31,
      "outputs": []
    },
    {
      "cell_type": "code",
      "source": [
        "x0 =np.ones(len(math))\n",
        "x2=np.array([x0,math,read]).T\n",
        "W =np.array([0,0,0])\n",
        "Y2 =np.array(write)"
      ],
      "metadata": {
        "id": "RcCX1AzYuu0Z"
      },
      "execution_count": 32,
      "outputs": []
    },
    {
      "cell_type": "code",
      "source": [
        "def cost_function(X,Y,W):\n",
        "  \"\"\" Parameters:\n",
        "    This function finds the Mean Square Error.\n",
        "    Input parameters:\n",
        "      X: Feature Matrix\n",
        "      Y: Target Matrix\n",
        "      W: Weight Matrix\n",
        "    Output Parameters:\n",
        "      J: accumulated mean square error.\n",
        "    \"\"\"\n",
        "  m =len(Y) # Removed extra spaces before the statement\n",
        "  J=np.sum((X.dot(W)-Y) **2)/(2*m) # Removed extra spaces before the statement\n",
        "  return J"
      ],
      "metadata": {
        "id": "vfLjE7nOvQpy"
      },
      "execution_count": 33,
      "outputs": []
    },
    {
      "cell_type": "code",
      "source": [
        "# TEST case\n",
        "X_test=np.array([[1,2],[3,4],[5,6]])\n",
        "Y_test=np.array([3,7,11])\n",
        "W_test=np.array([1,2])\n",
        "cost = cost_function(X_test,Y_test,W_test)\n",
        "\n",
        "if cost == 0:\n",
        "   print(\"proceed furthur\")\n",
        "else :\n",
        "  print(\"something went wrong\")\n",
        "  print(\"cost function output\" , cost)\n"
      ],
      "metadata": {
        "colab": {
          "base_uri": "https://localhost:8080/"
        },
        "id": "LT_hBAI4v3Z2",
        "outputId": "bdde12be-5fef-4b17-daf0-04875dfe4d96"
      },
      "execution_count": 34,
      "outputs": [
        {
          "output_type": "stream",
          "name": "stdout",
          "text": [
            "something went wrong\n",
            "cost function output 9.333333333333334\n"
          ]
        }
      ]
    },
    {
      "cell_type": "code",
      "source": [
        "initial_cost =cost_function(x2,Y2,w)\n",
        "print(initial_cost)"
      ],
      "metadata": {
        "colab": {
          "base_uri": "https://localhost:8080/"
        },
        "id": "zXq6KZK-wtnK",
        "outputId": "9066f5be-6c87-464e-bc5c-c7039a8c3851"
      },
      "execution_count": 35,
      "outputs": [
        {
          "output_type": "stream",
          "name": "stdout",
          "text": [
            "2470.11\n"
          ]
        }
      ]
    },
    {
      "cell_type": "code",
      "source": [
        "from functools import WRAPPER_UPDATES\n",
        "def gradient_decent(X,Y,B,alpha ,iterations):\n",
        "  cost_history = [0] * iterations\n",
        "  m = len(Y)\n",
        "  for iteration in range(iterations):\n",
        "    Y_pred = X.dot(B)\n",
        "    loss = Y_pred - Y\n",
        "    dw =(X.T.dot(loss)/(m))\n",
        "    W_update = W -alpha *dw\n",
        "    cost = cost_function(X,Y,W_update)\n",
        "    cost_history[iteration] = cost\n",
        "  return W_update ,cost_history"
      ],
      "metadata": {
        "id": "DE0McQGcw1Mq"
      },
      "execution_count": 36,
      "outputs": []
    },
    {
      "cell_type": "code",
      "source": [
        "alpha =0.0001\n",
        "new_weights ,cost_history = gradient_decent(x2,Y2,W,alpha,10000)\n",
        "print(new_weights)\n",
        "print(cost_history[-1])"
      ],
      "metadata": {
        "colab": {
          "base_uri": "https://localhost:8080/"
        },
        "collapsed": true,
        "id": "GlfezQpdxwER",
        "outputId": "f5c68f2b-da82-4c11-cd78-44b5db61ba9d"
      },
      "execution_count": 37,
      "outputs": [
        {
          "output_type": "stream",
          "name": "stdout",
          "text": [
            "[0.0068616 0.4801185 0.5006844]\n",
            "18.076027940915417\n"
          ]
        }
      ]
    },
    {
      "cell_type": "code",
      "source": [
        "def rmse(Y, Y_pred):\n",
        "  \"\"\"\n",
        "  This Function calculates the Root Mean Squres.\n",
        "  Input Arguments:\n",
        "    Y: Array of actual(Target) Dependent Varaibles.\n",
        "    Y_pred: Array of predeicted Dependent Varaibles.\n",
        "  Output Arguments:\n",
        "    rmse: Root Mean Square.\n",
        "  \"\"\"\n",
        "  rmse = np.sqrt(sum((Y-Y_pred)**2)/len(Y))\n",
        "  return rmse\n"
      ],
      "metadata": {
        "id": "CzFU50VqzNiZ"
      },
      "execution_count": 38,
      "outputs": []
    },
    {
      "cell_type": "code",
      "source": [
        "def r2(Y, Y_pred):\n",
        "  \"\"\"\n",
        "   This Function calculates the R Squared Error.\n",
        "  Input Arguments:\n",
        "    Y: Array of actual(Target) Dependent Varaibles.\n",
        "    Y_pred: Array of predeicted Dependent Varaibles.\n",
        "  Output Arguments:\n",
        "    rsquared: R Squared Error.\n",
        "    \"\"\"\n",
        "  mean_y = np.mean(Y)\n",
        "  ss_tot = sum((Y - mean_y) ** 2)\n",
        "  ss_res = sum((Y - Y_pred) ** 2)\n",
        "  r2 = 1 - (ss_res / ss_tot)\n",
        "  return r2"
      ],
      "metadata": {
        "id": "p2xwcNnwzR3Q"
      },
      "execution_count": 39,
      "outputs": []
    },
    {
      "cell_type": "code",
      "source": [
        "Y_pred = x2.dot(new_weights)\n",
        "\n",
        "print(rmse(Y2, Y_pred))\n",
        "print(r2(Y2, Y_pred))"
      ],
      "metadata": {
        "colab": {
          "base_uri": "https://localhost:8080/"
        },
        "id": "ECnN6EdnzTTk",
        "outputId": "1e767157-4d93-479f-d98a-343ef883a32f"
      },
      "execution_count": 41,
      "outputs": [
        {
          "output_type": "stream",
          "name": "stdout",
          "text": [
            "6.01265797146577\n",
            "0.8442155132417348\n"
          ]
        }
      ]
    }
  ]
}